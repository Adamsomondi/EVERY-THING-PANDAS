


import pandas as pd
groups1 = pd.read_csv("meetup/groups1.csv")
groups1.head()


groups2 = pd.read_csv("meetup/groups2.csv")
groups2.head()


categories = pd.read_csv("meetup/categories.csv")
categories.head()


pd.read_csv("meetup/cities.csv").head()


cities = pd.read_csv(
    "meetup/cities.csv", dtype = {"zip": "string"}
)
cities.head()





pd.concat(objs = [groups1, groups2])


len(groups1)


len(groups2)


len(groups1) + len(groups2)


pd.concat(objs = [groups1, groups2], ignore_index = True)


pd.concat(objs = [groups1, groups2], keys = ["G1", "G2"])


groups = pd.concat(objs = [groups1, groups2], ignore_index = True)





sports_champions_A = pd.DataFrame(
    data = [
        ["New England Patriots", "Houston Astros"],
        ["Philadelphia Eagles", "Boston Red Sox"]
    ],
    columns = ["Football", "Baseball"],
    index = [2017, 2018]
)

sports_champions_A


sports_champions_B = pd.DataFrame(
    data = [
        ["New England Patriots", "St. Louis Blues"],
        ["Kansas City Chiefs", "Tampa Bay Lightning"]
    ],
    columns = ["Football", "Hockey"],
    index = [2019, 2020]
)


pd.concat(objs = [sports_champions_A, sports_champions_B])


sports_champions_C = pd.DataFrame(
    data = [
        ["Pittsburgh Penguins", "Golden State Warriors"],
        ["Washington Capitals", "Golden State Warriors"]
    ],
    columns = ["Hockey", "Basketball"],
    index = [2017, 2018]
)



pd.concat(objs = [sports_champions_A, sports_champions_C])


pd.concat(
    objs = [sports_champions_A, sports_champions_C], 
    axis = 1
)
pd.concat(
    objs = [sports_champions_A, sports_champions_C], axis = "columns"
)





groups.head(3)


categories.head(3)


groups.merge(categories, how = "left", on = "category_id").head()





groups.head(3)


categories.head(3)


groups.merge(categories, how = "inner", on = "category_id")


groups[groups["category_id"] == 14]


categories[categories["category_id"] == 14]





groups.head(3)


cities.head(3)


groups.merge(
    cities, how = "outer", left_on = "city_id", right_on = "id"
)


groups.merge(
    cities,
    how = "outer",
    left_on = "city_id",
    right_on = "id",
    indicator = True
)


outer_join = groups.merge(
    cities,
    how = "outer",
    left_on = "city_id",
    right_on = "id",
    indicator = True
)

in_right_only = outer_join["_merge"] == "right_only"

outer_join[in_right_only].head()





cities.head(3)


cities = cities.set_index("id")


cities.head(3)


groups.head(3)


groups.merge(
    cities,
    how = "left",
    left_on = "city_id",
    right_index = True
)





pd.read_csv("restaurant/week_1_sales.csv").head()


week1 = pd.read_csv("restaurant/week_1_sales.csv")
week2 = pd.read_csv("restaurant/week_2_sales.csv")


pd.read_csv("restaurant/customers.csv", index_col = "ID").head()


customers = pd.read_csv(
    "restaurant/customers.csv", index_col = "ID"
)


pd.read_csv("restaurant/foods.csv", index_col = "Food ID")


foods = pd.read_csv("restaurant/foods.csv", index_col = "Food ID")








pd.concat(objs = [week1, week2], keys = ["Week 1", "Week 2"])


week1.merge(
    right = week2, how = "inner", on = "Customer ID"
).head()


week1.merge(
    right = week2, how = "inner", on = "Customer ID"
).drop_duplicates(subset = ["Customer ID"]).head()


week1.merge(
    right = week2,
    how = "inner",
    on = ["Customer ID", "Food ID"]
)


week1.merge(
    right = week2,
    how = "outer",
    on = "Customer ID",
    indicator = True
).head()


week1.merge(
    right = customers,
    how = "left",
    left_on = "Customer ID",
    right_index = True
).head()






