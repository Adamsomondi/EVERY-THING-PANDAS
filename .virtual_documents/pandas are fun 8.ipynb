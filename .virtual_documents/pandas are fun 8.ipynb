


import pandas as pd


food_data = {
    "Item": ["Banana", "Cucumber", "Orange", "Tomato", "Watermelon"],
    "Type": ["Fruit", "Vegetable", "Fruit", "Vegetable", "Fruit"],
    "Price": [0.99, 1.25, 0.25, 0.33, 3.00]
}

supermarket = pd.DataFrame(data = food_data)

supermarket


groups = supermarket.groupby("Type")
groups


groups.get_group("Fruit")


groups.get_group("Vegetable")


groups.mean()





fortune = pd.read_csv("fortune1000.csv")
fortune


in_retailing = fortune["Sector"] == "Retailing"
retail_companies = fortune[in_retailing]
retail_companies.head()


retail_companies["Revenues"].head()


retail_companies["Revenues"].mean()


sectors = fortune.groupby("Sector")


sectors


len(sectors)


fortune["Sector"].nunique()


sectors.size()





sectors.groups


fortune.loc[26, "Sector"]


sectors.first()


sectors.last()


sectors.nth(0)


sectors.nth(3)


fortune[fortune["Sector"] == "Apparel"].head()


sectors.head(2)


sectors.tail(3)


sectors.get_group("Energy").head()





sectors.sum().head(10)


sectors.get_group("Aerospace & Defense").head()


sectors.get_group("Aerospace & Defense").loc[:,"Revenues"].head()


sectors.get_group("Aerospace & Defense").loc[:, "Revenues"].sum()


sectors.mean().head()


sectors["Revenues"]


sectors["Revenues"].sum().head()


sectors["Employees"].mean().head()


sectors["Profits"].max().head()


sectors["Employees"].min().head()





aggregations = {
    "Revenues": "min",
    "Profits": "max",
    "Employees": "mean"
}

sectors.agg(aggregations).head()





fortune.nlargest(n = 5, columns = "Profits")


def get_largest_row(df):
    return df.nlargest(1, "Revenues")


sectors.apply(get_largest_row).head()





sector_and_industry = fortune.groupby(by = ["Sector", "Industry"])


sector_and_industry.size()


sector_and_industry.get_group(("Business Services", "Education"))


sector_and_industry.sum().head()


sector_and_industry["Revenues"].mean().head(5)





cereals = pd.read_csv("cereals.csv")
cereals.head()








manufacturers = cereals.groupby("Manufacturer")


len(manufacturers)


manufacturers.size()


manufacturers.get_group("Nabisco")


manufacturers.mean()


manufacturers["Sugars"].max()


manufacturers["Fiber"].min()


def smallest_sugar_row(df):
    return df.nsmallest(1, "Sugars")


manufacturers.apply(smallest_sugar_row)






