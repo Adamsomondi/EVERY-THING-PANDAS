


import pandas as pd


import pandas as pd
inspections = pd.read_csv("chicago_food_inspections.csv")
inspections


##the category column doesn't do a data frame or an info method the reduction doesnt change.



inspections.iloc[1200:1300]


inspections["Name"].head().values


inspections["Name"].str


dessert = "  cheesecake  "
dessert.lstrip()


dessert.rstrip()


dessert.strip()


inspections["Name"].str.lstrip().head()


inspections["Name"].str.rstrip().head()


inspections["Name"].str.strip().head()


inspections["Name"].str.lower().head()


steaks = pd.Series(["porterhouse", "filet mignon", "ribeye"])
steaks


steaks.str.upper()


inspections["Name"].str.capitalize().head()


inspections["Name"].str.title().head()





inspections["Risk"].head()


len(inspections)


inspections["Risk"].unique()


inspections = inspections.dropna(subset = ["Risk"])


inspections["Risk"].unique()


inspections = inspections.replace(
    to_replace = "All", value = "Risk 4 (Extreme)"
)


inspections["Risk"].unique()





inspections["Risk"].str.slice(5, 6).head()


inspections["Risk"].str[5:6].head()


inspections["Risk"].str.slice(8).head()


inspections["Risk"].str[8:].head()


inspections["Risk"].str.slice(8, -1).head()


inspections["Risk"].str[8:-1].head()


has_pizza = inspections["Name"].str.lower().str.contains("pizza")
inspections[has_pizza]


inspections["Name"].str.lower().str.startswith("tacos").head()


starts_with_tacos = (
    inspections["Name"].str.lower().str.startswith("tacos")
)
inspections[starts_with_tacos]


ends_with_tacos = (
    inspections["Name"].str.lower().str.endswith("tacos")
)
inspections[ends_with_tacos]





customers = pd.read_csv("customers.csv")
customers.head()


customers["Name"].str.len().head()


phone_number = "555-123-4567"
phone_number.split("-")


# The two lines below are equivalent
customers["Name"].str.split(pat = " ").head()
customers["Name"].str.split(" ").head()


customers["Name"].str.split(" ").str.len().head()


customers["Name"].str.split(pat = " ", n = 1).head()


customers["Name"].str.split(pat = " ", n = 1).str.get(0).head()


customers["Name"].str.split(pat = " ", n = 1).str.get(1).head()


customers["Name"].str.split(pat = " ", n = 1).str.get(-1).head()


customers["Name"].str.split(
    pat = " ", n = 1, expand = True
).head()


customers["Name"].str.split(pat = " ", expand = True).head()


customers[["First Name", "Last Name"]] = customers[
    "Name"
].str.split(pat = " ", n = 1, expand = True)


customers


customers = customers.drop(labels = "Name", axis = "columns")


customers.head()





customers["Address"].str.split(", ").head()


customers["Address"].str.split(", ", expand = True).head()


new_cols = ["Street", "City", "State", "Zip"]

customers[new_cols] = customers["Address"].str.split(
    pat = ", ", expand = True
)


customers.drop(labels = "Address", axis = "columns").head()


del customers["Address"]


customers.tail()





customers["Street"].head()


customers["Street"].str.replace(
    "\d{4,}", "*", regex = True
).head()



