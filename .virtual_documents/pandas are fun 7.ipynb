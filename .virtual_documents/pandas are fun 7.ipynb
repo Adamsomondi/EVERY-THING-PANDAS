





import pandas as pd


pd.read_csv("sales_by_employee.csv").head()


import pandas as pd
sales = pd.read_csv("sales_by_employee.csv",
                    parse_dates = ["Date"])

sales.tail()





sales.pivot_table(index = "Date")


sales.pivot_table(index = "Date", aggfunc = "mean")


sales.pivot_table(index = "Date", aggfunc = "sum")


sales.pivot_table(
    index = "Date", values = "Revenue", aggfunc = "sum"
)


sales.pivot_table(
    index = "Date",
    columns = "Name",
    values = "Revenue",
    aggfunc = "sum"
)


sales.pivot_table(
    index = "Date", 
    columns = "Name", 
    values = "Revenue", 
    aggfunc = "sum",
    fill_value = 0
)


sales.pivot_table(
    index = "Date",
    columns = "Name",
    values = "Revenue",
    aggfunc = "sum",
    fill_value = 0,
    margins = True
)


sales.pivot_table(
    index = "Date", 
    columns = "Name", 
    values = "Revenue", 
    aggfunc = "sum",
    fill_value = 0,
    margins = True,
    margins_name = "Total"
)





sales.pivot_table(
    index = "Date", 
    columns = "Name",
    values = "Revenue",
    aggfunc = "count"
)


sales.pivot_table(
    index = "Date",
    columns = "Name",
    values = "Revenue",
    aggfunc = ["sum", "count"],
    fill_value = 0
)


sales.pivot_table(
    index = "Date",
    columns = "Name", 
    values = ["Revenue", "Expenses"],
    fill_value = 0,
    aggfunc = { "Revenue": "min", "Expenses": "min" }
)


sales.pivot_table(
    index = ["Name", "Date"], values = "Revenue", aggfunc = "sum"
).head(10)


sales.pivot_table(
    index = ["Date", "Name"], values = "Revenue", aggfunc = "sum"
).head(10)





sales.head()


by_name_and_date = sales.pivot_table(
    index = "Name", 
    columns = "Date", 
    values = "Revenue", 
    aggfunc = "sum"
)

by_name_and_date.head(2) 


by_name_and_date.stack().head(7)


sales_by_customer = sales.pivot_table(
    index = ["Customer", "Name"],
    values = "Revenue",
    aggfunc = "sum"
)

sales_by_customer.head()


sales_by_customer.unstack()





sales.head(1)


video_game_sales = pd.read_csv("video_game_sales.csv")
video_game_sales.head()


video_game_sales.head(1)


video_game_sales.melt(id_vars = 'Name', value_vars = "NA").head()


regional_sales_columns = ["NA", "EU", "JP", "Other"]

video_game_sales.melt(
    id_vars = "Name", value_vars = regional_sales_columns
)


video_game_sales_by_region = video_game_sales.melt(
    id_vars = "Name", 
    value_vars = regional_sales_columns,
    var_name = "Region",
    value_name = "Sales"
)

video_game_sales_by_region.head()


video_game_sales_by_region.pivot_table(
    index = "Name", values = "Sales", aggfunc = "sum"
).head()





recipes = pd.read_csv("recipes.csv")
recipes


recipes["Ingredients"].str.split(",")


recipes["Ingredients"] = recipes["Ingredients"].str.split(",")
recipes


recipes.explode("Ingredients")








cars = pd.read_csv("used_cars.csv")
cars.head()


min_wage = pd.read_csv("minimum_wage.csv")
min_wage.head()





cars.pivot_table(
    values = "Price", index = "Fuel", aggfunc = "sum"
)


cars.pivot_table(
    values = "Price",
    index = "Manufacturer",
    columns = "Transmission",
    aggfunc = "count",
    margins = True
).tail()


cars.pivot_table(
    values = "Price",
    index = ["Year", "Fuel"],
    columns = ["Transmission"],
    aggfunc = "mean"
)


report = cars.pivot_table(
    values = "Price",
    index = ["Year", "Fuel"],
    columns = ["Transmission"],
    aggfunc = "mean"
)


report.stack()


year_columns = [
    "2010", "2011", "2012", "2013", 
    "2014", "2015", "2016", "2017"
]

min_wage.melt(id_vars = "State", value_vars = year_columns)


min_wage.melt(id_vars = "State")


min_wage.melt(
    id_vars = "State", var_name = "Year", value_name = "Wage"
)






